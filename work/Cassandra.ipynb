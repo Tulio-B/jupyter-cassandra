{
 "cells": [
  {
   "cell_type": "markdown",
   "metadata": {},
   "source": [
    "# Utilizando o Cassandra\n",
    "\n",
    "Neste notebook, há um node de Apache Cassandra executando. O campo abaixo conecta ao DBMS e cria o Keyspace na qual o schema será criado e dados fictícios serão inseridos."
   ]
  },
  {
   "cell_type": "code",
   "execution_count": null,
   "metadata": {},
   "outputs": [],
   "source": [
    "from cassandra.cluster import Cluster\n",
    "\n",
    "cluster = Cluster(['localhost'], port = 9042)\n",
    "session = cluster.connect()\n",
    "session.execute('CREATE KEYSPACE IF NOT EXISTS brecho WITH REPLICATION = { \\'class\\' : \\'SimpleStrategy\\', \\'replication_factor\\' : \\'1\\' };')\n",
    "session.execute('USE brecho;')"
   ]
  },
  {
   "cell_type": "markdown",
   "metadata": {},
   "source": [
    "## Criação do schema\n",
    "\n",
    "Para a execução das consultas, duas tabelas serão criadas:"
   ]
  },
  {
   "cell_type": "code",
   "execution_count": null,
   "metadata": {},
   "outputs": [],
   "source": [
    "session.execute('CREATE TABLE IF NOT EXISTS feedback_por_produto(produto_id uuid, pedido_id uuid, data timestamp, nota double, comentarios text, PRIMARY KEY ((produto_id), pedido_id));')\n",
    "session.execute('CREATE TABLE IF NOT EXISTS feedback_por_vendedor(vendedor_id uuid, pedido_id uuid, data timestamp, nota double, comentarios text, PRIMARY KEY ((vendedor_id), pedido_id));')"
   ]
  },
  {
   "cell_type": "markdown",
   "metadata": {},
   "source": [
    "## Inserção de dados\n",
    "\n",
    "Com base nas tabelas criadas, uma quantidade de informação será gerada de forma a testar as consultas"
   ]
  },
  {
   "cell_type": "code",
   "execution_count": null,
   "metadata": {},
   "outputs": [],
   "source": [
    "from datetime import datetime\n",
    "import random\n",
    "import uuid\n",
    "\n",
    "random.seed(\"INF-325\") #inicializa o seed para tornar os dados determinísticos\n",
    "\n",
    "idProdutos = []\n",
    "idVendedores = []\n",
    "\n",
    "for p in range(50): #criando 50 produtos\n",
    "    idProdutos.append(str(uuid.uuid4()))\n",
    "    \n",
    "for v in range(20): #criando 20 vendedores\n",
    "    idVendedores.append(str(uuid.uuid4()))\n",
    "\n",
    "#inclui registros de feedbacks de produtos\n",
    "now = datetime.now()\n",
    "totalRegistros = 0\n",
    "\n",
    "#dentre os 50 produtos, cria uma quantia entre 100 e 500 avaliações por produto\n",
    "print('Incluindo feedbacks de produtos')\n",
    "insertQuery = 'INSERT INTO feedback_por_produto (produto_id, pedido_id, data, nota, comentarios) VALUES ({produto}, {pedido}, \\'{data}\\', {nota}, \\'{comentarios}\\');'\n",
    "for ip in idProdutos:\n",
    "    quantidade = random.randrange(100, 500)\n",
    "    totalRegistros += quantidade\n",
    "    print('Incluindo {} registros para o produto {}'.format(quantidade, ip))\n",
    "          \n",
    "    for x in range(quantidade):\n",
    "        session.execute(insertQuery.format(produto = ip, pedido = str(uuid.uuid4()), data = datetime.utcnow(), nota = 5, comentarios = 'comentario'))\n",
    "\n",
    "print('{} registros incluídos em {}s\\n'.format(totalRegistros, (datetime.now() - now).total_seconds()))\n",
    "\n",
    "#inclui registros de feedbacks de vendedores\n",
    "now = datetime.now()\n",
    "totalRegistros = 0\n",
    "\n",
    "#dentre os 20 vendedores, cria uma quantia entre 100 e 500 avaliações por vendedor\n",
    "print('Incluindo feedbacks de vendedores')\n",
    "insertQuery = 'INSERT INTO feedback_por_vendedor (vendedor_id, pedido_id, data, nota, comentarios) VALUES ({produto}, {pedido}, \\'{data}\\', {nota}, \\'{comentarios}\\');'\n",
    "for ip in idProdutos:\n",
    "    quantidade = random.randrange(100, 500)\n",
    "    totalRegistros += quantidade\n",
    "    print('Incluindo {} registros para o vendedor {}'.format(quantidade, ip))\n",
    "          \n",
    "    for x in range(quantidade):\n",
    "        session.execute(insertQuery.format(produto = ip, pedido = str(uuid.uuid4()), data = datetime.utcnow(), nota = 5, comentarios = 'comentario'))\n",
    "\n",
    "print('{} registros incluídos em {}s'.format(totalRegistros, (datetime.now() - now).total_seconds()))"
   ]
  },
  {
   "cell_type": "markdown",
   "metadata": {},
   "source": [
    "## Utilização das Consultas"
   ]
  },
  {
   "cell_type": "code",
   "execution_count": null,
   "metadata": {},
   "outputs": [],
   "source": []
  }
 ],
 "metadata": {
  "kernelspec": {
   "display_name": "Python 3 (ipykernel)",
   "language": "python",
   "name": "python3"
  },
  "language_info": {
   "codemirror_mode": {
    "name": "ipython",
    "version": 3
   },
   "file_extension": ".py",
   "mimetype": "text/x-python",
   "name": "python",
   "nbconvert_exporter": "python",
   "pygments_lexer": "ipython3",
   "version": "3.10.5"
  }
 },
 "nbformat": 4,
 "nbformat_minor": 4
}
